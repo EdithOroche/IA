{
  "cells": [
    {
      "cell_type": "markdown",
      "metadata": {
        "id": "view-in-github",
        "colab_type": "text"
      },
      "source": [
        "<a href=\"https://colab.research.google.com/github/EdithOroche/IA/blob/main/Lab6_Convoluciones1D_PyTorch.ipynb\" target=\"_parent\"><img src=\"https://colab.research.google.com/assets/colab-badge.svg\" alt=\"Open In Colab\"/></a>"
      ]
    },
    {
      "cell_type": "markdown",
      "id": "6ab3800c",
      "metadata": {
        "id": "6ab3800c"
      },
      "source": [
        "\n",
        "# Laboratorio: Convoluciones 1D"
      ]
    },
    {
      "cell_type": "code",
      "execution_count": null,
      "id": "b06c845d",
      "metadata": {
        "colab": {
          "base_uri": "https://localhost:8080/"
        },
        "id": "b06c845d",
        "outputId": "e4734a26-6cc0-4734-9df8-a25390d76044"
      },
      "outputs": [
        {
          "output_type": "stream",
          "name": "stdout",
          "text": [
            "PyTorch: 2.8.0+cu126\n"
          ]
        }
      ],
      "source": [
        "# === Configuración del entorno ===\n",
        "import torch, torch.nn.functional as F\n",
        "import numpy as np\n",
        "import matplotlib.pyplot as plt\n",
        "from PIL import Image\n",
        "import urllib.request, os\n",
        "\n",
        "def imshow_np(img, title=None, cmap=None, figsize=(5,5), vmin=0, vmax=1):\n",
        "    plt.figure(figsize=figsize)\n",
        "    if img.ndim == 2:\n",
        "        plt.imshow(img, cmap=cmap or 'gray', vmin=vmin, vmax=vmax)\n",
        "    else:\n",
        "        plt.imshow(img)\n",
        "    if title: plt.title(title)\n",
        "    plt.axis('off')\n",
        "    plt.show()\n",
        "\n",
        "def pil_to_tensor_gray01(pil_img):\n",
        "    # Convierte PIL RGB/Grayscale a tensor 1x1xH xW en [0,1]\n",
        "    arr = np.array(pil_img)  # HxWxC or HxW\n",
        "    if arr.ndim == 3 and arr.shape[2] == 3:\n",
        "        # Conversión RGB -> gris perceptual\n",
        "        r,g,b = arr[...,0], arr[...,1], arr[...,2]\n",
        "        gray = 0.299*r + 0.587*g + 0.114*b\n",
        "    elif arr.ndim == 2:\n",
        "        gray = arr.astype(np.float32)\n",
        "    else:\n",
        "        raise ValueError(\"Formato de imagen no esperado.\")\n",
        "    gray = (gray / 255.0).astype(np.float32)\n",
        "    t = torch.from_numpy(gray).unsqueeze(0).unsqueeze(0)  # 1x1xH xW\n",
        "    return t\n",
        "\n",
        "def tensor01_to_np(t):\n",
        "    return t.detach().cpu().clamp(0,1).squeeze(0).squeeze(0).numpy()\n",
        "\n",
        "print(\"PyTorch:\", torch.__version__)\n"
      ]
    },
    {
      "cell_type": "markdown",
      "id": "533537b1",
      "metadata": {
        "id": "533537b1"
      },
      "source": [
        "\n",
        "## 1) Adquisición de imagen\n",
        "Descargaremos una imagen pública con `urllib` (puedes reemplazar la URL). Trabajaremos en **escala de grises**.\n"
      ]
    },
    {
      "cell_type": "code",
      "execution_count": null,
      "id": "e3d3e3d3",
      "metadata": {
        "id": "e3d3e3d3"
      },
      "outputs": [],
      "source": [
        "url = \"https://www.np-brijuni.hr/imagecache/maxsize/6f67e492-4a50-4136-93fd-89f06287a549/28-01-2025/np_brijuni_47_1.jpg\"\n",
        "local_path = \"sample.jpg\"\n",
        "urllib.request.urlretrieve(url, local_path)\n",
        "\n",
        "img_rgb = Image.open(local_path).convert(\"RGB\")\n",
        "gray_t = pil_to_tensor_gray01(img_rgb)   # 1x1xH xW, en [0,1]\n",
        "\n",
        "imshow_np(tensor01_to_np(gray_t), \"Imagen en grises (0–1)\")"
      ]
    },
    {
      "cell_type": "markdown",
      "id": "456749e6",
      "metadata": {
        "id": "456749e6"
      },
      "source": [
        "\n",
        "## 2) Teoría: Convolución 1D discreta\n",
        "Sea una señal discreta $f[n]$ (p.ej., una **fila** de una imagen) y un kernel $h[k]$ de soporte finito $k\\in\\{-m,\\dots,m\\}$. La **convolución 1D** se define como\n",
        "$$\n",
        "(f*h)[n] = \\sum_{k=-m}^{m} f[n-k] \\; h[k].\n",
        "$$\n",
        "En imágenes 2D, si un filtro es **separable** $H(x,y)=h_x(x)\\,h_y(y)$, entonces la convolución 2D puede implementarse como **dos** convoluciones 1D: primero por **X** (filas) y luego por **Y** (columnas). Esto reduce el coste de $O(N K^2)$ a $O(N\\,2K)$ (para un kernel $K\\times K$ y $N$ píxeles).\n",
        "\n",
        "**Propiedades clave:** linealidad, conmutatividad y asociatividad. Los **modos de borde** (relleno con ceros, reflejo, réplica) afectan los resultados cerca de los extremos.\n"
      ]
    },
    {
      "cell_type": "markdown",
      "id": "c68977c0",
      "metadata": {
        "id": "c68977c0"
      },
      "source": [
        "\n",
        "### 2.1 Utilidades: convolución 1D separable con PyTorch\n",
        "Usaremos `F.conv2d` con kernels de forma `(1,1,1,k)` (X) o `(1,1,k,1)` (Y), y `F.pad` para controlar el borde.\n"
      ]
    },
    {
      "cell_type": "code",
      "execution_count": null,
      "id": "05e661e0",
      "metadata": {
        "id": "05e661e0"
      },
      "outputs": [],
      "source": [
        "\n",
        "def sep_conv1d_x(inp, k1d, pad_mode='reflect'):\n",
        "    \"\"\"Aplica 1D en eje X (horizontal). inp: (1,1,H,W). k1d: (k,)\"\"\"\n",
        "    k = k1d.view(1, 1, 1, -1)  # 1x1x1xk\n",
        "    r = (k.shape[-1] - 1) // 2\n",
        "    x = F.pad(inp, (r, r, 0, 0), mode=pad_mode)\n",
        "    return F.conv2d(x, k)\n",
        "\n",
        "def sep_conv1d_y(inp, k1d, pad_mode='reflect'):\n",
        "    \"\"\"Aplica 1D en eje Y (vertical). inp: (1,1,H,W). k1d: (k,)\"\"\"\n",
        "    k = k1d.view(1, 1, -1, 1)  # 1x1xkx1\n",
        "    r = (k.shape[-2] - 1) // 2\n",
        "    x = F.pad(inp, (0, 0, r, r), mode=pad_mode)\n",
        "    return F.conv2d(x, k)\n",
        "\n",
        "def sep_conv2d(inp, kx, ky, pad_mode='reflect'):\n",
        "    \"\"\"Aplica kernel separable: primero X con kx, luego Y con ky.\"\"\"\n",
        "    out_x = sep_conv1d_x(inp, kx, pad_mode=pad_mode)\n",
        "    out_xy = sep_conv1d_y(out_x, ky, pad_mode=pad_mode)\n",
        "    return out_xy\n",
        "\n",
        "def normalize_kernel_1d(k):\n",
        "    k = k.clone().float()\n",
        "    s = k.sum()\n",
        "    return k / s if s != 0 else k\n",
        "\n",
        "def rescale01(t):\n",
        "    x = t.detach().cpu()\n",
        "    x = x - x.min()\n",
        "    return (x / (x.max() + 1e-8)).clamp(0,1)\n"
      ]
    },
    {
      "cell_type": "markdown",
      "id": "ca15cb81",
      "metadata": {
        "id": "ca15cb81"
      },
      "source": [
        "\n",
        "## 3) Ejemplo 1 — Media móvil (caja) 1D\n",
        "La **media móvil** promedia un vecindario de longitud impar $k$ y atenúa ruido pero suaviza bordes:\n",
        "\n",
        "$$\n",
        "h[i] = \\frac{1}{k}, \\quad i = -r,\\dots,r,\\; r=\\tfrac{k-1}{2}.\n",
        "$$\n",
        "\n",
        "Aplicamos el kernel en **X** y **Y** para obtener un blur separable $k\\times k$.\n"
      ]
    },
    {
      "cell_type": "code",
      "execution_count": null,
      "id": "52d0d9bb",
      "metadata": {
        "id": "52d0d9bb"
      },
      "outputs": [],
      "source": [
        "\n",
        "k = 7\n",
        "box = torch.ones(k, dtype=torch.float32) / k\n",
        "\n",
        "blur_x = sep_conv1d_x(gray_t, box, pad_mode='reflect')\n",
        "blur_xy = sep_conv2d(gray_t, box, box, pad_mode='reflect')\n",
        "\n",
        "plt.figure(figsize=(12,4))\n",
        "plt.subplot(1,3,1); plt.imshow(tensor01_to_np(gray_t), cmap='gray', vmin=0, vmax=1); plt.title(\"Original\"); plt.axis('off')\n",
        "plt.subplot(1,3,2); plt.imshow(tensor01_to_np(blur_x), cmap='gray', vmin=0, vmax=1); plt.title(\"Caja 1D (X)\"); plt.axis('off')\n",
        "plt.subplot(1,3,3); plt.imshow(tensor01_to_np(blur_xy), cmap='gray', vmin=0, vmax=1); plt.title(\"Caja separable 7×7 (X+Y)\"); plt.axis('off')\n",
        "plt.show()\n"
      ]
    },
    {
      "cell_type": "markdown",
      "id": "8f75a69d",
      "metadata": {
        "id": "8f75a69d"
      },
      "source": [
        "\n",
        "## 4) Ejemplo 2 — Derivada central 1D (bordes)\n",
        "La derivada central aproximada:\n",
        "\n",
        "$$\n",
        "h = \\tfrac{1}{2}[-1,\\;0,\\;1]\n",
        "$$\n",
        "\n",
        "- Deriva en **X** (bordes verticales) y en **Y** (bordes horizontales).\n",
        "- La **magnitud** del gradiente: $\\sqrt{g_x^2 + g_y^2}$.\n"
      ]
    },
    {
      "cell_type": "code",
      "execution_count": null,
      "id": "2cda080c",
      "metadata": {
        "id": "2cda080c"
      },
      "outputs": [],
      "source": [
        "\n",
        "dx = torch.tensor([-0.5, 0.0, 0.5], dtype=torch.float32)\n",
        "\n",
        "gx = sep_conv1d_x(gray_t, dx, pad_mode='reflect')\n",
        "gy = sep_conv1d_y(gray_t, dx, pad_mode='reflect')\n",
        "mag = torch.sqrt(gx**2 + gy**2)\n",
        "\n",
        "gx_v = rescale01(gx); gy_v = rescale01(gy); mag_v = rescale01(mag)\n",
        "\n",
        "plt.figure(figsize=(12,4))\n",
        "plt.subplot(1,4,1); plt.imshow(tensor01_to_np(gray_t), cmap='gray', vmin=0, vmax=1); plt.title(\"Original\"); plt.axis('off')\n",
        "plt.subplot(1,4,2); plt.imshow(tensor01_to_np(gx_v), cmap='gray', vmin=0, vmax=1); plt.title(\"|Grad X|\"); plt.axis('off')\n",
        "plt.subplot(1,4,3); plt.imshow(tensor01_to_np(gy_v), cmap='gray', vmin=0, vmax=1); plt.title(\"|Grad Y|\"); plt.axis('off')\n",
        "plt.subplot(1,4,4); plt.imshow(tensor01_to_np(mag_v), cmap='gray', vmin=0, vmax=1); plt.title(\"Magnitud\"); plt.axis('off')\n",
        "plt.show()\n"
      ]
    },
    {
      "cell_type": "markdown",
      "id": "725eea03",
      "metadata": {
        "id": "725eea03"
      },
      "source": [
        "\n",
        "## 5) Ejemplo 3 — Gaussiano 1D truncado (separable)\n",
        "El **gaussiano** continuo se trunca a una ventana impar $k$ y se **normaliza** para preservar el nivel medio (DC):\n",
        "\n",
        "$$\n",
        "g[i] \\propto e^{-\\frac{i^2}{2\\sigma^2}}, \\quad i=-r,\\dots,r, \\; g \\leftarrow \\frac{g}{\\sum_i g}.\n",
        "$$\n",
        "\n",
        "Aplicación separable: primero **X** y luego **Y**.\n"
      ]
    },
    {
      "cell_type": "code",
      "execution_count": null,
      "id": "409b9356",
      "metadata": {
        "id": "409b9356"
      },
      "outputs": [],
      "source": [
        "\n",
        "def gaussian1d_torch(ksize=11, sigma=2.0):\n",
        "    assert ksize % 2 == 1, \"ksize debe ser impar\"\n",
        "    r = ksize // 2\n",
        "    x = torch.arange(-r, r+1, dtype=torch.float32)\n",
        "    g = torch.exp(-(x**2) / (2*sigma**2))\n",
        "    g = g / g.sum()\n",
        "    return g\n",
        "\n",
        "g1d = gaussian1d_torch(ksize=11, sigma=2.0)\n",
        "\n",
        "gauss_x = sep_conv1d_x(gray_t, g1d, pad_mode='reflect')\n",
        "gauss_xy = sep_conv2d(gray_t, g1d, g1d, pad_mode='reflect')\n",
        "\n",
        "plt.figure(figsize=(12,4))\n",
        "plt.subplot(1,3,1); plt.imshow(tensor01_to_np(gray_t), cmap='gray', vmin=0, vmax=1); plt.title(\"Original\"); plt.axis('off')\n",
        "plt.subplot(1,3,2); plt.imshow(tensor01_to_np(gauss_x), cmap='gray', vmin=0, vmax=1); plt.title(\"Gauss 1D (X)\"); plt.axis('off')\n",
        "plt.subplot(1,3,3); plt.imshow(tensor01_to_np(gauss_xy), cmap='gray', vmin=0, vmax=1); plt.title(\"Gauss separable 11×11\"); plt.axis('off')\n",
        "plt.show()\n"
      ]
    },
    {
      "cell_type": "markdown",
      "id": "cb9fd689",
      "metadata": {
        "id": "cb9fd689"
      },
      "source": [
        "\n",
        "## 6) Unsharp Mask separable (realce de nitidez)\n",
        "Pasos:\n",
        "1. Suaviza con **gaussiano 1D+1D** para obtener $I_{suave}$.\n",
        "2. Calcula **detalle**: $D = I - I_{suave}$.\n",
        "3. Reintegra: $I' = I + \\alpha D$ (recorte a [0,1]).\n"
      ]
    },
    {
      "cell_type": "code",
      "execution_count": null,
      "id": "7925835d",
      "metadata": {
        "id": "7925835d"
      },
      "outputs": [],
      "source": [
        "\n",
        "def unsharp_separable(inp, ksize=9, sigma=1.5, amount=1.2):\n",
        "    g = gaussian1d_torch(ksize, sigma)\n",
        "    blur = sep_conv2d(inp, g, g, pad_mode='reflect')\n",
        "    detail = inp - blur\n",
        "    sharp = (inp + amount * detail).clamp(0,1)\n",
        "    return sharp, blur, detail\n",
        "\n",
        "sharp, blur, detail = unsharp_separable(gray_t, ksize=9, sigma=1.5, amount=1.4)\n",
        "\n",
        "plt.figure(figsize=(14,4))\n",
        "plt.subplot(1,4,1); plt.imshow(tensor01_to_np(gray_t), cmap='gray', vmin=0, vmax=1); plt.title(\"Original\"); plt.axis('off')\n",
        "plt.subplot(1,4,2); plt.imshow(tensor01_to_np(blur), cmap='gray', vmin=0, vmax=1); plt.title(\"Suavizada\"); plt.axis('off')\n",
        "plt.subplot(1,4,3); plt.imshow(tensor01_to_np(rescale01(detail)), cmap='gray', vmin=0, vmax=1); plt.title(\"Detalle (viz)\"); plt.axis('off')\n",
        "plt.subplot(1,4,4); plt.imshow(tensor01_to_np(sharp), cmap='gray', vmin=0, vmax=1); plt.title(\"Sharpen (unsharp)\"); plt.axis('off')\n",
        "plt.show()\n"
      ]
    },
    {
      "cell_type": "markdown",
      "id": "4789f4f9",
      "metadata": {
        "id": "4789f4f9"
      },
      "source": [
        "\n",
        "## 7) Modos de borde\n",
        "Compara `reflect`, `replicate` y `constant` al aplicar caja 1D separable. Observa artefactos en las zonas cercanas al límite.\n"
      ]
    },
    {
      "cell_type": "code",
      "execution_count": null,
      "id": "73cc7a59",
      "metadata": {
        "id": "73cc7a59"
      },
      "outputs": [],
      "source": [
        "\n",
        "k = 15\n",
        "box = torch.ones(k, dtype=torch.float32) / k\n",
        "modes = ['reflect', 'replicate', 'constant']\n",
        "outs = []\n",
        "for md in modes:\n",
        "    out = sep_conv2d(gray_t, box, box, pad_mode=md)\n",
        "    outs.append(out)\n",
        "\n",
        "plt.figure(figsize=(14,4))\n",
        "for i,(md,out) in enumerate(zip(modes, outs), start=1):\n",
        "    plt.subplot(1,3,i); plt.imshow(tensor01_to_np(out), cmap='gray', vmin=0, vmax=1)\n",
        "    plt.title(f\"Caja {k}×{k} ({md})\"); plt.axis('off')\n",
        "plt.show()\n"
      ]
    },
    {
      "cell_type": "markdown",
      "id": "e646d575",
      "metadata": {
        "id": "e646d575"
      },
      "source": [
        "\n",
        "## 8) Actividades\n",
        "- **A (10 min):** prueba caja con $k\\in\\{5,9,15\\}$ (separable) y comenta nitidez vs. ruido.  \n",
        "- **B (10 min):** genera gaussianos con $\\sigma\\in\\{1.0,2.5\\}$ y $k\\in\\{7,11\\}$; compara con caja del mismo $k$.  \n",
        "- **C (15 min):** usa una **derivada más ancha** (p.ej., $[-1,-2,0,2,1]/8$) y compara mapas de bordes con la derivada central.  \n",
        "- **D (15 min):** ajusta `amount` en unsharp (0.5, 1.0, 2.0) y detecta cuándo aparecen halos.  \n",
        "- **E (10 min):** repite (A) con distintos **modos de borde** y captura artefactos en los extremos.\n"
      ]
    }
  ],
  "metadata": {
    "colab": {
      "provenance": [],
      "include_colab_link": true
    },
    "language_info": {
      "name": "python"
    },
    "kernelspec": {
      "name": "python3",
      "display_name": "Python 3"
    }
  },
  "nbformat": 4,
  "nbformat_minor": 5
}
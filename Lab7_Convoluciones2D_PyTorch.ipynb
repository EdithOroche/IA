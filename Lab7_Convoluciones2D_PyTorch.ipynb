{
  "cells": [
    {
      "cell_type": "markdown",
      "metadata": {
        "id": "view-in-github",
        "colab_type": "text"
      },
      "source": [
        "<a href=\"https://colab.research.google.com/github/EdithOroche/IA/blob/main/Lab7_Convoluciones2D_PyTorch.ipynb\" target=\"_parent\"><img src=\"https://colab.research.google.com/assets/colab-badge.svg\" alt=\"Open In Colab\"/></a>"
      ]
    },
    {
      "cell_type": "markdown",
      "id": "8522dda1",
      "metadata": {
        "id": "8522dda1"
      },
      "source": [
        "# Laboratorio: Convoluciones **2D** con PyTorch aplicando filtros clásicos"
      ]
    },
    {
      "cell_type": "code",
      "execution_count": null,
      "id": "2f1f3cc7",
      "metadata": {
        "id": "2f1f3cc7"
      },
      "outputs": [],
      "source": [
        "# === Configuración del entorno ===\n",
        "import torch, torch.nn.functional as F\n",
        "import numpy as np, matplotlib.pyplot as plt, os, urllib.request\n",
        "from PIL import Image\n",
        "from math import cos, sin, pi\n",
        "\n",
        "device = 'cuda' if torch.cuda.is_available() else 'cpu'\n",
        "print(\"PyTorch:\", torch.__version__, \"| device:\", device)\n",
        "\n",
        "# ---------- Utilidades de I/O y visualización ----------\n",
        "def pil_to_tensor01_rgb(pil_img):\n",
        "    arr = np.array(pil_img).astype(np.float32) / 255.0  # HxWxC\n",
        "    t = torch.from_numpy(arr).permute(2,0,1).unsqueeze(0)  # 1xCxHxW\n",
        "    return t\n",
        "\n",
        "def pil_to_tensor01_gray(pil_img):\n",
        "    arr = np.array(pil_img.convert('RGB')).astype(np.float32) / 255.0\n",
        "    r,g,b = arr[...,0], arr[...,1], arr[...,2]\n",
        "    gray = 0.299*r + 0.587*g + 0.114*b\n",
        "    t = torch.from_numpy(gray).unsqueeze(0).unsqueeze(0)  # 1x1xH xW\n",
        "    return t\n",
        "\n",
        "def tensor01_to_np_img(t):\n",
        "    # t: 1xCxHxW en [0,1] -> numpy HxWxC (o HxW si C=1)\n",
        "    t = t.detach().cpu().clamp(0,1)\n",
        "    if t.shape[1] == 1:\n",
        "        return t.squeeze(0).squeeze(0).numpy()\n",
        "    else:\n",
        "        return t.squeeze(0).permute(1,2,0).numpy()\n",
        "\n",
        "def imshow_t(t, title=None, figsize=(5,5), cmap=None):\n",
        "    img = tensor01_to_np_img(t)\n",
        "    plt.figure(figsize=figsize)\n",
        "    if img.ndim == 2:\n",
        "        plt.imshow(img, cmap=cmap or 'gray', vmin=0, vmax=1)\n",
        "    else:\n",
        "        plt.imshow(img)\n",
        "    if title: plt.title(title)\n",
        "    plt.axis('off'); plt.show()\n",
        "\n",
        "# ---------- Padding + conv2d helpers ----------\n",
        "def conv2d_gray(inp, kernel, pad_mode='reflect', pad_value=0.0):\n",
        "    # inp: tensor 1x1xHxW en [0,1]\n",
        "    # kernel: tensor kxk (o khxkw)\n",
        "    k = kernel.float().to(device)\n",
        "    if k.ndim == 2:\n",
        "        k = k.unsqueeze(0).unsqueeze(0)  # 1x1xkhxkw\n",
        "    rH, rW = (k.shape[-2]//2, k.shape[-1]//2)\n",
        "    x = F.pad(inp.to(device), (rW, rW, rH, rH), mode=pad_mode, value=pad_value)\n",
        "    y = F.conv2d(x, k)\n",
        "    return y\n",
        "\n",
        "def conv2d_rgb(inp, kernel, pad_mode='reflect', pad_value=0.0):\n",
        "    # inp: tensor 1x3xHxW, aplica mismo kernel por canal usando groups=3\n",
        "    k = kernel.float().to(device)\n",
        "    if k.ndim == 2:\n",
        "        k = k.unsqueeze(0).unsqueeze(0)  # 1x1xkhxkw\n",
        "    k3 = k.repeat(3,1,1,1)               # 3x1xkhxkw\n",
        "    rH, rW = (k.shape[-2]//2, k.shape[-1]//2)\n",
        "    x = F.pad(inp.to(device), (rW, rW, rH, rH), mode=pad_mode, value=pad_value)\n",
        "    y = F.conv2d(x, k3, groups=3)\n",
        "    return y\n",
        "\n",
        "def normalize_kernel_sum1(k):\n",
        "    s = k.sum()\n",
        "    if abs(float(s)) < 1e-8:\n",
        "        return k\n",
        "    return k / s\n",
        "\n",
        "def rescale01(t):\n",
        "    m, M = t.min(), t.max()\n",
        "    return (t - m) / (M - m + 1e-8)\n"
      ]
    },
    {
      "cell_type": "markdown",
      "id": "23108024",
      "metadata": {
        "id": "23108024"
      },
      "source": [
        "\n",
        "## 1) Adquisición de imagen\n",
        "Descargaremos una imagen pública y la cargaremos en **grises** y **color**. Puedes reemplazar la URL.\n"
      ]
    },
    {
      "cell_type": "code",
      "execution_count": null,
      "id": "00b0c6b7",
      "metadata": {
        "id": "00b0c6b7"
      },
      "outputs": [],
      "source": [
        "\n",
        "os.makedirs(\"data\", exist_ok=True)\n",
        "url = \"https://www.zooplus.es/magazine/wp-content/uploads/2019/04/labrador-3-Farben.webp\"\n",
        "local = \"data/sample.jpg\"\n",
        "urllib.request.urlretrieve(url, local)\n",
        "\n",
        "img_pil = Image.open(local).convert('RGB')\n",
        "img_gray = pil_to_tensor01_gray(img_pil).to(device)\n",
        "img_rgb  = pil_to_tensor01_rgb(img_pil).to(device)\n",
        "\n",
        "imshow_t(img_rgb, \"Original (color)\")\n",
        "imshow_t(img_gray, \"Escala de grises\")\n",
        "h, w = img_gray.shape[-2:]\n",
        "print(\"Tamaño:\", h, \"x\", w)"
      ]
    },
    {
      "cell_type": "markdown",
      "id": "c2d7eda7",
      "metadata": {
        "id": "c2d7eda7"
      },
      "source": [
        "\n",
        "## 2) Teoría: Convolución 2D discreta\n",
        "\n",
        "Dadas una imagen $ f[m,n] $ y un kernel $h[i,j]$ de soporte finito, la **convolución 2D** se define como:\n",
        "$$\n",
        "(f * h)[m,n] = \\sum_{i=-r}^{r}\\sum_{j=-s}^{s} f[m-i, n-j]\\; h[i,j].\n",
        "$$\n",
        "- En la definición **matemática** el kernel está **invertido** (reflejado) en ambos ejes.  \n",
        "- En la práctica, muchos frameworks (incluido `F.conv2d`) implementan **correlación**; para kernels **simétricos** (caja/gauss) es equivalente.\n",
        "- Los **modos de borde** (`reflect`, `replicate`, `constant`) determinan cómo extender la imagen para calcular los píxeles cercanos al borde.\n",
        "- **Normalización**: para suavizados, suele imponerse $\\sum h = 1$. Para detectores de bordes, típicos kernels **suman 0** (responden a cambios, no a DC).\n"
      ]
    },
    {
      "cell_type": "markdown",
      "id": "e2197d94",
      "metadata": {
        "id": "e2197d94"
      },
      "source": [
        "\n",
        "## 3) Biblioteca de **kernels 2D** clásicos\n",
        "Incluimos funciones para generar **muchos** filtros.\n"
      ]
    },
    {
      "cell_type": "code",
      "execution_count": null,
      "id": "99669247",
      "metadata": {
        "id": "99669247"
      },
      "outputs": [],
      "source": [
        "\n",
        "# ---------- Suavizado ----------\n",
        "def box_kernel(k=3):\n",
        "    k = int(k) if int(k)%2==1 else int(k)+1\n",
        "    w = torch.ones((k,k), dtype=torch.float32)\n",
        "    return normalize_kernel_sum1(w)\n",
        "\n",
        "def gaussian1d(ksize=5, sigma=1.0):\n",
        "    r = ksize//2\n",
        "    x = torch.arange(-r, r+1, dtype=torch.float32)\n",
        "    g = torch.exp(-(x**2)/(2*sigma**2))\n",
        "    return g / g.sum()\n",
        "\n",
        "def gaussian2d(ksize=5, sigma=1.0):\n",
        "    g = gaussian1d(ksize, sigma)\n",
        "    G = torch.outer(g, g)\n",
        "    return G / G.sum()\n",
        "\n",
        "# ---------- Derivadas / Bordes ----------\n",
        "def sobel_kernels():\n",
        "    kx = torch.tensor([[ -1., 0., 1.],\n",
        "                       [ -2., 0., 2.],\n",
        "                       [ -1., 0., 1.]])\n",
        "    ky = torch.tensor([[ -1., -2., -1.],\n",
        "                       [  0.,  0.,  0.],\n",
        "                       [  1.,  2.,  1.]])\n",
        "    return kx, ky\n",
        "\n",
        "def prewitt_kernels():\n",
        "    kx = torch.tensor([[ -1., 0., 1.],\n",
        "                       [ -1., 0., 1.],\n",
        "                       [ -1., 0., 1.]])\n",
        "    ky = torch.tensor([[ -1., -1., -1.],\n",
        "                       [  0.,  0.,  0.],\n",
        "                       [  1.,  1.,  1.]])\n",
        "    return kx, ky\n",
        "\n",
        "def scharr_kernels():\n",
        "    kx = torch.tensor([[ -3., 0., 3.],\n",
        "                       [-10., 0.,10.],\n",
        "                       [ -3., 0., 3.]])\n",
        "    ky = torch.tensor([[ -3., -10., -3.],\n",
        "                       [  0.,   0.,  0.],\n",
        "                       [  3.,  10.,  3.]])\n",
        "    return kx, ky\n",
        "\n",
        "def roberts_kernels():\n",
        "    kx = torch.tensor([[1., 0.],\n",
        "                       [0., -1.]])\n",
        "    ky = torch.tensor([[0., 1.],\n",
        "                       [-1., 0.]])\n",
        "    return kx, ky\n",
        "\n",
        "# ---------- Laplacianos ----------\n",
        "def laplacian4():\n",
        "    return torch.tensor([[ 0., -1.,  0.],\n",
        "                         [-1.,  4., -1.],\n",
        "                         [ 0., -1.,  0.]])\n",
        "\n",
        "def laplacian8():\n",
        "    return torch.tensor([[-1., -1., -1.],\n",
        "                         [-1.,  8., -1.],\n",
        "                         [-1., -1., -1.]])\n",
        "\n",
        "def log_kernel(ksize=9, sigma=1.4):\n",
        "    # Laplaciano del Gaussiano (LoG) discreto\n",
        "    r = ksize//2\n",
        "    y,x = torch.meshgrid(torch.arange(-r,r+1), torch.arange(-r,r+1), indexing='ij')\n",
        "    y = y.float(); x = x.float()\n",
        "    norm = (x**2 + y**2)/(2*sigma**2)\n",
        "    G = torch.exp(-norm)\n",
        "    LoG = ( (x**2 + y**2 - 2*sigma**2) / (sigma**4) ) * G\n",
        "    LoG = LoG - LoG.mean()  # suma cercana a 0\n",
        "    return LoG\n",
        "\n",
        "# ---------- Sharpen / Emboss / Outline ----------\n",
        "def sharpen_basic():\n",
        "    return torch.tensor([[ 0., -1.,  0.],\n",
        "                         [-1.,  5., -1.],\n",
        "                         [ 0., -1.,  0.]])\n",
        "\n",
        "def outline():\n",
        "    return torch.tensor([[-1., -1., -1.],\n",
        "                         [-1.,  8., -1.],\n",
        "                         [-1., -1., -1.]])\n",
        "\n",
        "def emboss():\n",
        "    return torch.tensor([[-2., -1., 0.],\n",
        "                         [-1.,  1., 1.],\n",
        "                         [ 0.,  1., 2.]])\n",
        "\n",
        "# ---------- Motion blur ----------\n",
        "def motion_blur_kernel(length=9, angle_deg=0.0):\n",
        "    length = int(length) if int(length)%2==1 else int(length)+1\n",
        "    k = torch.zeros((length, length), dtype=torch.float32)\n",
        "    center = length//2\n",
        "    theta = angle_deg * pi / 180.0\n",
        "    dx, dy = cos(theta), sin(theta)\n",
        "    for i in range(length):\n",
        "        x = int(round(center + (i - center) * dx))\n",
        "        y = int(round(center + (i - center) * dy))\n",
        "        if 0 <= y < length and 0 <= x < length:\n",
        "            k[y, x] = 1.0\n",
        "    if k.sum() == 0:\n",
        "        k[center, center] = 1.0\n",
        "    return k / k.sum()\n",
        "\n",
        "# ---------- Gabor ----------\n",
        "def gabor_kernel(ksize=21, sigma=3.0, theta=0.0, lam=10.0, gamma=0.5, psi=0.0):\n",
        "    r = ksize//2\n",
        "    y,x = torch.meshgrid(torch.arange(-r,r+1), torch.arange(-r,r+1), indexing='ij')\n",
        "    y = y.float(); x = x.float()\n",
        "    xr =  x*torch.cos(theta) + y*torch.sin(theta)\n",
        "    yr = -x*torch.sin(theta) + y*torch.cos(theta)\n",
        "    gauss = torch.exp(-0.5*( (xr**2 + (gamma*yr)**2)/(sigma**2) ))\n",
        "    wave  = torch.cos(2*pi*xr/lam + psi)\n",
        "    g = gauss * wave\n",
        "    g = g - g.mean()\n",
        "    return g\n"
      ]
    },
    {
      "cell_type": "markdown",
      "id": "bf774109",
      "metadata": {
        "id": "bf774109"
      },
      "source": [
        "\n",
        "## 4) Suavizado (caja y gaussiano) y separación por canal\n",
        "Aplicamos en **grises** y **color**.\n"
      ]
    },
    {
      "cell_type": "code",
      "execution_count": null,
      "id": "9fe6b9e9",
      "metadata": {
        "id": "9fe6b9e9"
      },
      "outputs": [],
      "source": [
        "\n",
        "k_box = box_kernel(9)\n",
        "k_gauss = gaussian2d(ksize=11, sigma=2.0)\n",
        "\n",
        "blur_box_g = conv2d_gray(img_gray, k_box)\n",
        "blur_box_c = conv2d_rgb(img_rgb,  k_box)\n",
        "\n",
        "blur_gau_g = conv2d_gray(img_gray, k_gauss)\n",
        "blur_gau_c = conv2d_rgb(img_rgb,  k_gauss)\n",
        "\n",
        "plt.figure(figsize=(12,6))\n",
        "plt.subplot(2,3,1); plt.imshow(tensor01_to_np_img(img_gray), cmap='gray', vmin=0, vmax=1); plt.title(\"Gris - Original\"); plt.axis('off')\n",
        "plt.subplot(2,3,2); plt.imshow(tensor01_to_np_img(blur_box_g), cmap='gray', vmin=0, vmax=1); plt.title(\"Gris - Caja 9x9\"); plt.axis('off')\n",
        "plt.subplot(2,3,3); plt.imshow(tensor01_to_np_img(blur_gau_g), cmap='gray', vmin=0, vmax=1); plt.title(\"Gris - Gauss 11x11\"); plt.axis('off')\n",
        "\n",
        "plt.subplot(2,3,4); plt.imshow(tensor01_to_np_img(img_rgb)); plt.title(\"Color - Original\"); plt.axis('off')\n",
        "plt.subplot(2,3,5); plt.imshow(tensor01_to_np_img(blur_box_c)); plt.title(\"Color - Caja 9x9\"); plt.axis('off')\n",
        "plt.subplot(2,3,6); plt.imshow(tensor01_to_np_img(blur_gau_c)); plt.title(\"Color - Gauss 11x11\"); plt.axis('off')\n",
        "plt.show()"
      ]
    },
    {
      "cell_type": "markdown",
      "id": "55705e96",
      "metadata": {
        "id": "55705e96"
      },
      "source": [
        "\n",
        "## 5) Detectores de **bordes**: Sobel, Prewitt, Scharr, Roberts\n",
        "Calculamos **gradiente X/Y** y su **magnitud**.\n"
      ]
    },
    {
      "cell_type": "code",
      "execution_count": null,
      "id": "a60ace7a",
      "metadata": {
        "id": "a60ace7a"
      },
      "outputs": [],
      "source": [
        "\n",
        "def grad_and_mag(gray, kx, ky, name=\"\"):\n",
        "    gx = conv2d_gray(gray, kx)\n",
        "    gy = conv2d_gray(gray, ky)\n",
        "    mag = torch.sqrt(gx**2 + gy**2)\n",
        "    fig = plt.figure(figsize=(12,4))\n",
        "    plt.subplot(1,4,1); plt.imshow(tensor01_to_np_img(gray), cmap='gray', vmin=0, vmax=1); plt.title(\"Original\"); plt.axis('off')\n",
        "    plt.subplot(1,4,2); plt.imshow(tensor01_to_np_img(rescale01(gx)), cmap='gray', vmin=0, vmax=1); plt.title(f\"{name} Gx\"); plt.axis('off')\n",
        "    plt.subplot(1,4,3); plt.imshow(tensor01_to_np_img(rescale01(gy)), cmap='gray', vmin=0, vmax=1); plt.title(f\"{name} Gy\"); plt.axis('off')\n",
        "    plt.subplot(1,4,4); plt.imshow(tensor01_to_np_img(rescale01(mag)), cmap='gray', vmin=0, vmax=1); plt.title(f\"{name} |G|\"); plt.axis('off')\n",
        "    plt.show()\n",
        "\n",
        "kx, ky = sobel_kernels()\n",
        "grad_and_mag(img_gray, kx, ky, \"Sobel\")\n",
        "\n",
        "kx, ky = prewitt_kernels()\n",
        "grad_and_mag(img_gray, kx, ky, \"Prewitt\")\n",
        "\n",
        "kx, ky = scharr_kernels()\n",
        "grad_and_mag(img_gray, kx, ky, \"Scharr\")\n",
        "\n",
        "kx, ky = roberts_kernels()\n",
        "grad_and_mag(img_gray, kx, ky, \"Roberts\")"
      ]
    },
    {
      "cell_type": "markdown",
      "id": "96af72ed",
      "metadata": {
        "id": "96af72ed"
      },
      "source": [
        "\n",
        "## 6) Laplaciano y Laplaciano del Gaussiano (LoG)\n",
        "- **Laplaciano 4/8 vecinos** resalta transiciones independientemente de la orientación.  \n",
        "- **LoG**: suaviza y luego deriva (segunda derivada), útil para localización robusta de bordes.\n"
      ]
    },
    {
      "cell_type": "code",
      "execution_count": null,
      "id": "8261d026",
      "metadata": {
        "id": "8261d026"
      },
      "outputs": [],
      "source": [
        "\n",
        "lap4 = laplacian4()\n",
        "lap8 = laplacian8()\n",
        "log9 = log_kernel(ksize=9, sigma=1.4)\n",
        "\n",
        "lap4_img = conv2d_gray(img_gray, lap4)\n",
        "lap8_img = conv2d_gray(img_gray, lap8)\n",
        "log_img  = conv2d_gray(img_gray, log9)\n",
        "\n",
        "plt.figure(figsize=(12,4))\n",
        "plt.subplot(1,4,1); plt.imshow(tensor01_to_np_img(img_gray), cmap='gray', vmin=0, vmax=1); plt.title(\"Original\"); plt.axis('off')\n",
        "plt.subplot(1,4,2); plt.imshow(tensor01_to_np_img(rescale01(lap4_img)), cmap='gray', vmin=0, vmax=1); plt.title(\"Laplaciano 4\"); plt.axis('off')\n",
        "plt.subplot(1,4,3); plt.imshow(tensor01_to_np_img(rescale01(lap8_img)), cmap='gray', vmin=0, vmax=1); plt.title(\"Laplaciano 8\"); plt.axis('off')\n",
        "plt.subplot(1,4,4); plt.imshow(tensor01_to_np_img(rescale01(log_img)),  cmap='gray', vmin=0, vmax=1); plt.title(\"LoG (9,1.4)\"); plt.axis('off')\n",
        "plt.show()"
      ]
    },
    {
      "cell_type": "markdown",
      "id": "89f61cb6",
      "metadata": {
        "id": "89f61cb6"
      },
      "source": [
        "\n",
        "## 7) Realce (Sharpen), **High-Boost** y **Emboss**\n",
        "- **Sharpen básico**: resalta alta frecuencia.  \n",
        "- **High-Boost**: $ I' = I + \\alpha (I - G_\\sigma * I) $.  \n",
        "- **Emboss**: efecto relieve (cambia fase/iluminación local).\n"
      ]
    },
    {
      "cell_type": "code",
      "execution_count": null,
      "id": "5a2812df",
      "metadata": {
        "id": "5a2812df"
      },
      "outputs": [],
      "source": [
        "\n",
        "# Sharpen básico por kernel\n",
        "sharpen_k = sharpen_basic()\n",
        "sharpen_g = conv2d_gray(img_gray, sharpen_k)\n",
        "sharpen_c = conv2d_rgb(img_rgb,  sharpen_k)\n",
        "\n",
        "# High-boost con gauss (separable en 2D usando kernel 2D)\n",
        "g = gaussian2d(ksize=11, sigma=1.6)\n",
        "blur = conv2d_gray(img_gray, g)\n",
        "amount = 1.5\n",
        "highboost = (img_gray + amount*(img_gray - blur)).clamp(0,1)\n",
        "\n",
        "# Emboss\n",
        "emb = emboss()\n",
        "emb_g = conv2d_gray(img_gray, emb)\n",
        "emb_c = conv2d_rgb(img_rgb,  emb)\n",
        "\n",
        "plt.figure(figsize=(12,6))\n",
        "plt.subplot(2,3,1); plt.imshow(tensor01_to_np_img(img_gray), cmap='gray', vmin=0, vmax=1); plt.title(\"Gris - Original\"); plt.axis('off')\n",
        "plt.subplot(2,3,2); plt.imshow(tensor01_to_np_img(rescale01(sharpen_g)), cmap='gray', vmin=0, vmax=1); plt.title(\"Gris - Sharpen\"); plt.axis('off')\n",
        "plt.subplot(2,3,3); plt.imshow(tensor01_to_np_img(rescale01(emb_g)), cmap='gray', vmin=0, vmax=1); plt.title(\"Gris - Emboss\"); plt.axis('off')\n",
        "\n",
        "plt.subplot(2,3,4); plt.imshow(tensor01_to_np_img(img_rgb)); plt.title(\"Color - Original\"); plt.axis('off')\n",
        "plt.subplot(2,3,5); plt.imshow(tensor01_to_np_img(rescale01(sharpen_c))); plt.title(\"Color - Sharpen\"); plt.axis('off')\n",
        "plt.subplot(2,3,6); plt.imshow(tensor01_to_np_img(rescale01(emb_c))); plt.title(\"Color - Emboss\"); plt.axis('off')\n",
        "plt.show()\n",
        "\n",
        "imshow_t(highboost, \"High-Boost (α=1.5, Gauss σ=1.6)\")"
      ]
    },
    {
      "cell_type": "markdown",
      "id": "d18627e3",
      "metadata": {
        "id": "d18627e3"
      },
      "source": [
        "\n",
        "## 8) **Motion Blur** (desenfoque por movimiento)\n",
        "Kernel lineal en la dirección $\\theta$. Cambia `length` y `angle_deg`.\n"
      ]
    },
    {
      "cell_type": "code",
      "execution_count": null,
      "id": "7961727e",
      "metadata": {
        "id": "7961727e"
      },
      "outputs": [],
      "source": [
        "\n",
        "mb0 = motion_blur_kernel(length=17, angle_deg=0.0)\n",
        "mb45 = motion_blur_kernel(length=17, angle_deg=45.0)\n",
        "mb90 = motion_blur_kernel(length=17, angle_deg=90.0)\n",
        "\n",
        "mb0_g  = conv2d_gray(img_gray, mb0)\n",
        "mb45_g = conv2d_gray(img_gray, mb45)\n",
        "mb90_g = conv2d_gray(img_gray, mb90)\n",
        "\n",
        "plt.figure(figsize=(12,4))\n",
        "plt.subplot(1,4,1); plt.imshow(tensor01_to_np_img(img_gray), cmap='gray', vmin=0, vmax=1); plt.title(\"Original\"); plt.axis('off')\n",
        "plt.subplot(1,4,2); plt.imshow(tensor01_to_np_img(mb0_g),  cmap='gray', vmin=0, vmax=1); plt.title(\"Motion 0°\"); plt.axis('off')\n",
        "plt.subplot(1,4,3); plt.imshow(tensor01_to_np_img(mb45_g), cmap='gray', vmin=0, vmax=1); plt.title(\"Motion 45°\"); plt.axis('off')\n",
        "plt.subplot(1,4,4); plt.imshow(tensor01_to_np_img(mb90_g), cmap='gray', vmin=0, vmax=1); plt.title(\"Motion 90°\"); plt.axis('off')\n",
        "plt.show()"
      ]
    },
    {
      "cell_type": "markdown",
      "id": "b046cecd",
      "metadata": {
        "id": "b046cecd"
      },
      "source": [
        "\n",
        "## 9) **Filtros de Gabor** (banco de orientaciones)\n",
        "Los Gabors actúan como detectores de **textura/orientación**. Construimos un **banco** de orientaciones y lo aplicamos.\n"
      ]
    },
    {
      "cell_type": "code",
      "execution_count": null,
      "id": "80a26fc0",
      "metadata": {
        "id": "80a26fc0"
      },
      "outputs": [],
      "source": [
        "def gabor_kernel(ksize=21, sigma=3.0, theta=0.0, lam=10.0, gamma=0.5, psi=0.0):\n",
        "    r = ksize//2\n",
        "    y, x = torch.meshgrid(torch.arange(-r, r+1), torch.arange(-r, r+1), indexing='ij')\n",
        "    x = x.float(); y = y.float()\n",
        "    theta_t = torch.tensor(theta, dtype=torch.float32, device=x.device)\n",
        "\n",
        "    xr =  x*theta_t.cos() + y*theta_t.sin()\n",
        "    yr = -x*theta_t.sin() + y*theta_t.cos()\n",
        "\n",
        "    gauss = torch.exp(-0.5 * ((xr**2 + (gamma*yr)**2) / (sigma**2)))\n",
        "    wave  = torch.cos(2*torch.pi*xr/lam + psi)\n",
        "    g = gauss * wave\n",
        "    g = g - g.mean()\n",
        "    return g\n",
        "\n",
        "thetas = [0, 30, 60, 90, 120, 150]  # grados\n",
        "gab_imgs = []\n",
        "for th in thetas:\n",
        "    gk = gabor_kernel(ksize=25, sigma=3.0, theta=th*pi/180, lam=10.0, gamma=0.6, psi=0.0)\n",
        "    out = conv2d_gray(img_gray, gk)\n",
        "    gab_imgs.append(rescale01(out))\n",
        "\n",
        "cols = len(thetas)\n",
        "plt.figure(figsize=(3*cols,3))\n",
        "for i,(th,im) in enumerate(zip(thetas, gab_imgs), start=1):\n",
        "    plt.subplot(1, cols, i)\n",
        "    plt.imshow(tensor01_to_np_img(im), cmap='gray', vmin=0, vmax=1)\n",
        "    plt.title(f\"Gabor θ={th}°\"); plt.axis('off')\n",
        "plt.show()"
      ]
    },
    {
      "cell_type": "markdown",
      "id": "8f301ca8",
      "metadata": {
        "id": "8f301ca8"
      },
      "source": [
        "\n",
        "## 10) Galería rápida de **muchos kernels** (grises)\n",
        "Aplicamos una lista grande de filtros y los mostramos en una galería para comparación.\n"
      ]
    },
    {
      "cell_type": "code",
      "execution_count": null,
      "id": "cedb0a17",
      "metadata": {
        "id": "cedb0a17"
      },
      "outputs": [],
      "source": [
        "\n",
        "kernels = {\n",
        "    \"Caja 5\": box_kernel(5),\n",
        "    \"Caja 11\": box_kernel(11),\n",
        "    \"Gauss (7,1.2)\": gaussian2d(7,1.2),\n",
        "    \"Gauss (15,3.0)\": gaussian2d(15,3.0),\n",
        "    \"Sobel X\": sobel_kernels()[0],\n",
        "    \"Sobel Y\": sobel_kernels()[1],\n",
        "    \"Prewitt X\": prewitt_kernels()[0],\n",
        "    \"Prewitt Y\": prewitt_kernels()[1],\n",
        "    \"Scharr X\": scharr_kernels()[0],\n",
        "    \"Scharr Y\": scharr_kernels()[1],\n",
        "    \"Roberts X\": roberts_kernels()[0],\n",
        "    \"Roberts Y\": roberts_kernels()[1],\n",
        "    \"Laplaciano 4\": laplacian4(),\n",
        "    \"Laplaciano 8\": laplacian8(),\n",
        "    \"LoG (9,1.4)\": log_kernel(9,1.4),\n",
        "    \"Outline 3x3\": outline(),\n",
        "    \"Sharpen 3x3\": sharpen_basic(),\n",
        "    \"Emboss 3x3\": emboss(),\n",
        "    \"Motion 0°\": motion_blur_kernel(15,0),\n",
        "    \"Motion 45°\": motion_blur_kernel(15,45),\n",
        "    \"Motion 90°\": motion_blur_kernel(15,90),\n",
        "}\n",
        "\n",
        "names = list(kernels.keys())\n",
        "vals  = list(kernels.values())\n",
        "outs  = [rescale01(conv2d_gray(img_gray, k)) for k in vals]\n",
        "\n",
        "cols = 4\n",
        "rows = int(np.ceil(len(outs)/cols))\n",
        "plt.figure(figsize=(4*cols, 3.5*rows))\n",
        "for i,(nm,im) in enumerate(zip(names, outs), start=1):\n",
        "    plt.subplot(rows, cols, i)\n",
        "    plt.imshow(tensor01_to_np_img(im), cmap='gray', vmin=0, vmax=1)\n",
        "    plt.title(nm); plt.axis('off')\n",
        "plt.tight_layout(); plt.show()"
      ]
    },
    {
      "cell_type": "markdown",
      "id": "c67f5355",
      "metadata": {
        "id": "c67f5355"
      },
      "source": [
        "\n",
        "## 11) Efecto de **modos de borde**\n",
        "Compara `reflect`, `replicate` y `constant` con un kernel grande.\n"
      ]
    },
    {
      "cell_type": "code",
      "execution_count": null,
      "id": "8b45960f",
      "metadata": {
        "id": "8b45960f"
      },
      "outputs": [],
      "source": [
        "\n",
        "k = box_kernel(21)\n",
        "modes = ['reflect', 'replicate', 'constant']\n",
        "outs = []\n",
        "for md in modes:\n",
        "    outs.append(conv2d_gray(img_gray, k, pad_mode=md))\n",
        "\n",
        "plt.figure(figsize=(12,4))\n",
        "for i,(md,out) in enumerate(zip(modes, outs), start=1):\n",
        "    plt.subplot(1,3,i)\n",
        "    plt.imshow(tensor01_to_np_img(out), cmap='gray', vmin=0, vmax=1)\n",
        "    plt.title(md); plt.axis('off')\n",
        "plt.show()"
      ]
    },
    {
      "cell_type": "markdown",
      "id": "67a5f4b5",
      "metadata": {
        "id": "67a5f4b5"
      },
      "source": [
        "\n",
        "## Preguntas\n",
        "1. ¿Por qué algunos kernels de detección de bordes tienen **suma cero**?  \n",
        "2. ¿Cuál es el efecto de cada kernel en cada imagen? Realice una tabla compartiva."
      ]
    }
  ],
  "metadata": {
    "colab": {
      "provenance": [],
      "include_colab_link": true
    },
    "language_info": {
      "name": "python"
    },
    "kernelspec": {
      "name": "python3",
      "display_name": "Python 3"
    }
  },
  "nbformat": 4,
  "nbformat_minor": 5
}
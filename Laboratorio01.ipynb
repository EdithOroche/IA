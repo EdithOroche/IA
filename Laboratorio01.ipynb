{
  "cells": [
    {
      "cell_type": "markdown",
      "metadata": {
        "id": "view-in-github",
        "colab_type": "text"
      },
      "source": [
        "<a href=\"https://colab.research.google.com/github/EdithOroche/IA/blob/main/Laboratorio01.ipynb\" target=\"_parent\"><img src=\"https://colab.research.google.com/assets/colab-badge.svg\" alt=\"Open In Colab\"/></a>"
      ]
    },
    {
      "cell_type": "markdown",
      "id": "d3c30ff9",
      "metadata": {
        "id": "d3c30ff9"
      },
      "source": [
        "\n",
        "# Laboratorio 2: Tipos de imágenes y formatos de archivo\n",
        "**Entorno:** Google Colab\n",
        "**Librerías:** Python, OpenCV (`cv2`), Matplotlib, NumPy, Pillow\n",
        "**Duración estimada:** 40 minutos"
      ]
    },
    {
      "cell_type": "code",
      "execution_count": null,
      "id": "bb141d4f",
      "metadata": {
        "id": "bb141d4f"
      },
      "outputs": [],
      "source": [
        "\n",
        "# === Configuración del entorno ===\n",
        "# Colab ya trae numpy y matplotlib. Instalamos OpenCV y Pillow si hace falta.\n",
        "!pip -q install opencv-python-headless pillow\n",
        "\n",
        "import cv2, numpy as np, matplotlib.pyplot as plt\n",
        "from PIL import Image, ExifTags\n",
        "import os, io, sys, time\n",
        "\n",
        "# Utilidades de visualización\n",
        "def imshow_cv(img, title=None, cmap=None):\n",
        "    \"\"\"Muestra una imagen OpenCV en Matplotlib corrigiendo BGR->RGB si es 3 canales.\"\"\"\n",
        "    plt.figure(figsize=(5,5))\n",
        "    if img is None:\n",
        "        raise ValueError(\"Imagen es None (no cargada).\")\n",
        "    if len(img.shape) == 2:\n",
        "        plt.imshow(img, cmap='gray' if cmap is None else cmap)\n",
        "    else:\n",
        "        # OpenCV lee en BGR; convertimos a RGB para mostrar correctamente\n",
        "        img_rgb = cv2.cvtColor(img, cv2.COLOR_BGR2RGB)\n",
        "        plt.imshow(img_rgb)\n",
        "    if title:\n",
        "        plt.title(title)\n",
        "    plt.axis('off')\n",
        "    plt.show()\n",
        "\n",
        "print(cv2.__version__, \"OpenCV listo\")"
      ]
    },
    {
      "cell_type": "markdown",
      "id": "de6027ac",
      "metadata": {
        "id": "de6027ac"
      },
      "source": [
        "\n",
        "## 1) Conceptos básicos de imágenes digitales\n",
        "Una **imagen digital** es una matriz de pixeles. Cada pixel almacena información de **intensidad** (1 canal, p. ej. escala de grises) o **color** (3–4 canales, p. ej. RGB/RGBA).  \n",
        "- **Forma (`shape`)**: `(alto, ancho)` para imágenes 2D (grises) o `(alto, ancho, canales)` para color.  \n",
        "- **Profundidad**: tipo de dato (comúnmente `uint8` en [0,255]).  \n",
        "- **Espacios de color**: RGB (visualización) / BGR (convención OpenCV) / HSV (tono, saturación, valor) / otros.\n"
      ]
    },
    {
      "cell_type": "code",
      "execution_count": null,
      "id": "b8c33834",
      "metadata": {
        "id": "b8c33834"
      },
      "outputs": [],
      "source": [
        "# Creamos una imagen sintética (degrade + figuras) para explorar pixeles y canales\n",
        "h, w = 256, 256\n",
        "grad = np.tile(np.linspace(0, 255, w, dtype=np.uint8), (h, 1))  # escala de grises\n",
        "img_gray = grad.copy()\n",
        "\n",
        "# Componemos una imagen BGR artificial\n",
        "img_color = np.zeros((h, w, 3), dtype=np.uint8)\n",
        "img_color[..., 0] = grad                    # Canal B\n",
        "img_color[..., 1] = np.flipud(grad)         # Canal G\n",
        "img_color[..., 2] = 255 - grad              # Canal R\n",
        "\n",
        "# Dibujamos primitivas: rectángulo, círculo, línea y texto\n",
        "cv2.rectangle(img_color, (20,20), (120,120), (255,255,255), 2)\n",
        "cv2.circle(img_color, (200, 60), 40, (0,255,255), thickness=3)\n",
        "cv2.line(img_color, (0,255), (255,0), (255,0,255), thickness=2)\n",
        "cv2.putText(img_color, \"ESIS\", (60,200), cv2.FONT_HERSHEY_SIMPLEX, 0.8, (255,255,0), 2)\n",
        "\n",
        "imshow_cv(img_gray, \"Imagen sintética (grises)\")\n",
        "imshow_cv(img_color, \"Imagen sintética (color BGR->RGB)\")"
      ]
    },
    {
      "cell_type": "markdown",
      "source": [
        "# Pregunta 1:\n",
        "¿Cómos se compuso la imágenen a colores a partir de la imágen en escala de grises y por qué aparecen los colores rojo degradado de izquierda a derecha y verde agua degradado de derecha a izquierda?"
      ],
      "metadata": {
        "id": "vtc6XWwNy8VE"
      },
      "id": "vtc6XWwNy8VE"
    },
    {
      "cell_type": "code",
      "execution_count": null,
      "id": "853f17db",
      "metadata": {
        "id": "853f17db"
      },
      "outputs": [],
      "source": [
        "# Acceso a pixeles, ROI y canales\n",
        "y, x = 100, 150\n",
        "px_bgr = img_color[y, x]           # vector BGR\n",
        "roi = img_color[50:120, 50:140]    # recorte\n",
        "b, g, r = cv2.split(img_color)     # separación de canales\n",
        "\n",
        "print(\"Pixel BGR en (y=100, x=150):\", px_bgr)\n",
        "print(\"ROI shape:\", roi.shape)\n",
        "print(\"Canales:\", b.shape, g.shape, r.shape)\n",
        "\n",
        "# Visualizamos ROI y canales\n",
        "imshow_cv(roi, \"ROI\")\n",
        "plt.figure(figsize=(12,4))\n",
        "plt.subplot(1,3,1); plt.imshow(b, cmap='gray'); plt.title('Canal B'); plt.axis('off')\n",
        "plt.subplot(1,3,2); plt.imshow(g, cmap='gray'); plt.title('Canal G'); plt.axis('off')\n",
        "plt.subplot(1,3,3); plt.imshow(r, cmap='gray'); plt.title('Canal R'); plt.axis('off')\n",
        "plt.show()"
      ]
    },
    {
      "cell_type": "markdown",
      "source": [
        "# Pregunta 2:\n",
        "1. ¿Por qué en un canal (B) el circulo sale NEGRO y en los otros canales blanco?\n",
        "2. ¿Por qué en un canal (G) la línea diagonal sale NEGRA y en los otros canales blanca?\n",
        "3. ¿Por qué en un canal (R) la palabra ESIS sale de color negro y en los otros canales blanca?\n"
      ],
      "metadata": {
        "id": "NBDcAtgQzPPT"
      },
      "id": "NBDcAtgQzPPT"
    },
    {
      "cell_type": "markdown",
      "id": "773b144d",
      "metadata": {
        "id": "773b144d"
      },
      "source": [
        "\n",
        "## 2) Tipos de imágenes\n",
        "**Tipos:**  \n",
        "- **Binaria** (2 niveles: 0/1).  \n",
        "- **Escala de grises** (1 canal).  \n",
        "- **Color** (RGB/BGR de 3 canales, RGBA de 4 canales).  \n",
        "- **(Mención) Multiespectral/Hiperespectral**: múltiples bandas (no trabajaremos aquí).\n",
        "\n",
        "**Formatos:**  \n",
        "- **PNG** (compresión sin pérdida, soporta transparencia).  \n",
        "- **JPEG/JPG** (compresión con pérdida, controlable con calidad).  \n",
        "- **BMP** (sin compresión, archivos más pesados).  \n",
        "- **TIFF** (muy flexible; puede ser sin pérdida o con compresión).  \n",
        "- **RAW** (salida directa del sensor; varía por dispositivo).\n"
      ]
    },
    {
      "cell_type": "markdown",
      "source": [
        "# 3) Formato de archivo\n",
        "A continuación sube el logo de la Universidad (buscar en Google)."
      ],
      "metadata": {
        "id": "j3M3HEdSz_iU"
      },
      "id": "j3M3HEdSz_iU"
    },
    {
      "cell_type": "code",
      "execution_count": null,
      "id": "f6f51fb0",
      "metadata": {
        "id": "f6f51fb0"
      },
      "outputs": [],
      "source": [
        "# Subir imágenes para pruebas\n",
        "from google.colab import files\n",
        "\n",
        "print(\"Sube el logo de la Universidad.\")\n",
        "uploaded = files.upload()  # dict: nombre->contenido\n",
        "\n",
        "uploaded_paths = []\n",
        "for name, data in uploaded.items():\n",
        "    with open(name, 'wb') as f:\n",
        "        f.write(data)\n",
        "    uploaded_paths.append(name)\n",
        "\n",
        "print(\"Archivos subidos:\", uploaded_paths)"
      ]
    },
    {
      "cell_type": "code",
      "execution_count": null,
      "id": "18ced6e9",
      "metadata": {
        "id": "18ced6e9"
      },
      "outputs": [],
      "source": [
        "# Carga y visualización de imágenes subidas\n",
        "imgs = []\n",
        "for p in uploaded_paths:\n",
        "    img = cv2.imread(p, cv2.IMREAD_UNCHANGED)  # preserva alfa si existe\n",
        "    if img is None:\n",
        "        print(f\"No se pudo leer {p}\")\n",
        "        continue\n",
        "    imgs.append((p, img))\n",
        "    imshow_cv(img, f\"{p} | shape={img.shape} dtype={img.dtype}\")\n",
        "\n",
        "len(imgs)"
      ]
    },
    {
      "cell_type": "code",
      "execution_count": null,
      "id": "08674885",
      "metadata": {
        "id": "08674885"
      },
      "outputs": [],
      "source": [
        "\n",
        "# Guardar en distintos formatos y comparar tamaños\n",
        "os.makedirs(\"salidas\", exist_ok=True)\n",
        "report = []\n",
        "\n",
        "for p, img in imgs:\n",
        "    base = os.path.splitext(os.path.basename(p))[0]\n",
        "    # Guardar PNG (sin pérdida)\n",
        "    out_png = f\"salidas/{base}.png\"\n",
        "    cv2.imwrite(out_png, img)\n",
        "    size_png = os.path.getsize(out_png)\n",
        "\n",
        "    # Guardar BMP\n",
        "    out_bmp = f\"salidas/{base}.bmp\"\n",
        "    cv2.imwrite(out_bmp, img)\n",
        "    size_bmp = os.path.getsize(out_bmp)\n",
        "\n",
        "    # Guardar TIFF\n",
        "    out_tiff = f\"salidas/{base}.tiff\"\n",
        "    cv2.imwrite(out_tiff, img)\n",
        "    size_tiff = os.path.getsize(out_tiff)\n",
        "\n",
        "    # Guardar JPEG con distintas calidades\n",
        "    sizes_jpg = {}\n",
        "    for q in [95, 80, 60, 40]:\n",
        "        out_jpg = f\"salidas/{base}_q{q}.jpg\"\n",
        "        cv2.imwrite(out_jpg, img, [cv2.IMWRITE_JPEG_QUALITY, q])\n",
        "        sizes_jpg[q] = os.path.getsize(out_jpg)\n",
        "\n",
        "    report.append({\n",
        "        \"archivo\": p,\n",
        "        \"PNG(bytes)\": size_png,\n",
        "        \"BMP(bytes)\": size_bmp,\n",
        "        \"TIFF(bytes)\": size_tiff,\n",
        "        **{f\"JPG_q{q}(bytes)\": sizes_jpg[q] for q in sizes_jpg}\n",
        "    })\n",
        "\n",
        "import pandas as pd\n",
        "df = pd.DataFrame(report)\n",
        "print(\"Comparativa de tamaños (bytes):\")\n",
        "\n",
        "print(df)"
      ]
    },
    {
      "cell_type": "markdown",
      "source": [
        "# Pregunta 3:\n",
        "1. ¿Qué diferencia hay entre los formatos PNG, BMP y JPG_qXX?\n",
        "2. ¿Cuales formatos son comprimidos y cuales no?\n",
        "3. ¿Cuáles formatos tienen pérdida y cuales no?\n",
        "4. ¿Por qué preferir PNG por encima de JPG_q95?"
      ],
      "metadata": {
        "id": "aTE2fqy61zsu"
      },
      "id": "aTE2fqy61zsu"
    }
  ],
  "metadata": {
    "colab": {
      "provenance": [],
      "include_colab_link": true
    },
    "language_info": {
      "name": "python"
    },
    "kernelspec": {
      "name": "python3",
      "display_name": "Python 3"
    }
  },
  "nbformat": 4,
  "nbformat_minor": 5
}
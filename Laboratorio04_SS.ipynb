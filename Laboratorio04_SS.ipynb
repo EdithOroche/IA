{
  "nbformat": 4,
  "nbformat_minor": 0,
  "metadata": {
    "colab": {
      "provenance": [],
      "authorship_tag": "ABX9TyMpBd09tgd+Tifjg7/+PzdA",
      "include_colab_link": true
    },
    "kernelspec": {
      "name": "python3",
      "display_name": "Python 3"
    },
    "language_info": {
      "name": "python"
    }
  },
  "cells": [
    {
      "cell_type": "markdown",
      "metadata": {
        "id": "view-in-github",
        "colab_type": "text"
      },
      "source": [
        "<a href=\"https://colab.research.google.com/github/EdithOroche/IA/blob/main/Laboratorio04_SS.ipynb\" target=\"_parent\"><img src=\"https://colab.research.google.com/assets/colab-badge.svg\" alt=\"Open In Colab\"/></a>"
      ]
    },
    {
      "cell_type": "markdown",
      "source": [
        "**LABORATORIO 04**"
      ],
      "metadata": {
        "id": "-jeqW9BDuN60"
      }
    },
    {
      "cell_type": "markdown",
      "source": [
        "Vamos a tomar la mejor semilla de 4 dígitos del algoritmo congruencial de cuadrados medios (Laboratorio 3) que es: 1781 y su periodo 126 y usarla para los nuevos algoritmos estudiados.\n",
        "\n",
        "Para asegurarnos que los cáculos estén bien, es posible que la mejor semilla que reportaste no sea 1781 y su periodo no sea 126. Por ello, deberás encontrar tu error (si cometiste alguno) considerando la respuesta correcta dada.\n",
        "\n",
        "Luego, vamos a programar los siguientes algoritmos:\n",
        "\n",
        "- Algoritmo no congruencial de cuadrados medios.\n",
        "\n",
        "- Algoritmo no congruencial de productos medios (tendrá a 1781 como semilla X1)\n",
        "\n",
        "- Algoritmo no congruencial de multiplicador constante (tendrá a 1781 como multiplicador constante \"a\")\n",
        "\n",
        "Luego, realizarás búsqueda exhaustiva de la mejor semilla (X0) para los 3 algoritmos realizando búsqueda exhaustiva a los valores entre 1000 y 9999 y almacenarás todas las longitudes para toda las semillas.\n",
        "\n",
        "Finalmente, generarás un boxplot de los periodos de cada algoritmo.\n",
        "\n",
        "Concluirás generando una tabla teniendo como filas los algoritmos, y como columnas el mínimo, promedio, máximo de los periodos."
      ],
      "metadata": {
        "id": "mcgmzBzfuJfu"
      }
    },
    {
      "cell_type": "markdown",
      "source": [
        "**Librerias**"
      ],
      "metadata": {
        "id": "BaceZxHV_SN2"
      }
    },
    {
      "cell_type": "code",
      "source": [
        "import matplotlib.pyplot as plt\n",
        "import pandas as pd\n",
        "import numpy as np\n",
        "import seaborn as sns"
      ],
      "metadata": {
        "id": "iLXwppc9urTt"
      },
      "execution_count": null,
      "outputs": []
    },
    {
      "cell_type": "markdown",
      "source": [
        "**Algoritmo no congruencial de cuadrados medios**"
      ],
      "metadata": {
        "id": "Nu873oQh6LEy"
      }
    },
    {
      "cell_type": "code",
      "source": [
        "def algoritmo_no_congruencial_cuadrados_medios(x0):\n",
        "  digitos_semilla = len(str(x0))\n",
        "  if digitos_semilla <= 3:\n",
        "    return []\n",
        "  numeros_aleatorios = []\n",
        "  valores_vistos = set()\n",
        "  while True:\n",
        "    semilla_cuadrada = x0 ** 2\n",
        "    cadena_cuadrada = str(semilla_cuadrada)\n",
        "\n",
        "    if digitos_semilla %2==0 and len(cadena_cuadrada) % 2 != 0:\n",
        "      cadena_cuadrada = \"0\" + cadena_cuadrada\n",
        "\n",
        "    mid = len(cadena_cuadrada) // 2\n",
        "    inicio = mid - (digitos_semilla // 2)\n",
        "    fin = inicio + digitos_semilla\n",
        "    digitos_centrales = cadena_cuadrada [inicio:fin]\n",
        "    valorAleatorio = float(\"0.\" + digitos_centrales)\n",
        "\n",
        "    if valorAleatorio in valores_vistos:\n",
        "      break\n",
        "\n",
        "    numeros_aleatorios.append(valorAleatorio)\n",
        "    valores_vistos.add(valorAleatorio)\n",
        "    x0 = int(digitos_centrales)\n",
        "\n",
        "  return numeros_aleatorios"
      ],
      "metadata": {
        "id": "vT1wDH5e4v9t"
      },
      "execution_count": null,
      "outputs": []
    },
    {
      "cell_type": "markdown",
      "source": [
        "**Algoritmo no congruencial de productos medios (tendrá a 1781 como semilla X1)**"
      ],
      "metadata": {
        "id": "c9pRIBS16QHR"
      }
    },
    {
      "cell_type": "code",
      "source": [
        "def digitos_centrales(num, D):\n",
        "    num_str = str(num).zfill(2 * D)\n",
        "    start = (len(num_str) - D) // 2\n",
        "    end = start + D\n",
        "    return int(num_str[start:end])"
      ],
      "metadata": {
        "id": "olSWcQJV3jOV"
      },
      "execution_count": null,
      "outputs": []
    },
    {
      "cell_type": "code",
      "source": [
        "def algoritmo_no_congruencial_productos_medios(x0, x1, D):\n",
        "    resultados = []\n",
        "    while True:\n",
        "        y = x0 * x1\n",
        "        nuevo = digitos_centrales(y, D)\n",
        "        r = nuevo / (10**D)\n",
        "\n",
        "        if r in resultados:\n",
        "            break\n",
        "\n",
        "        resultados.append(r)\n",
        "        x0, x1 = x1, nuevo\n",
        "    return resultados"
      ],
      "metadata": {
        "id": "OUY0XlF1zrxS"
      },
      "execution_count": null,
      "outputs": []
    },
    {
      "cell_type": "markdown",
      "source": [
        "**Algoritmo no congruencial de multiplicador constante (tendrá a 1781 como multiplicador constante \"a\")**"
      ],
      "metadata": {
        "id": "9B_6AAp_6Wxg"
      }
    },
    {
      "cell_type": "code",
      "source": [
        "def digitos_centrales(num, D):\n",
        "    s = str(num).zfill(2 * D)\n",
        "    i = (len(s) - D) // 2\n",
        "    return int(s[i:i + D])"
      ],
      "metadata": {
        "id": "hqqcfvl24QfU"
      },
      "execution_count": null,
      "outputs": []
    },
    {
      "cell_type": "code",
      "source": [
        "def algoritmo_no_congruencial_multiplicador_constante(x0, a, D):\n",
        "    xi = x0\n",
        "    resultados = []\n",
        "\n",
        "    while True:\n",
        "        yi = a * xi\n",
        "        centro = digitos_centrales(yi, D)\n",
        "        ri = centro / (10 ** D)\n",
        "        xi = centro\n",
        "\n",
        "        if ri in resultados:\n",
        "            break\n",
        "        resultados.append(ri)\n",
        "    return resultados"
      ],
      "metadata": {
        "id": "Wnznhcitz9yd"
      },
      "execution_count": null,
      "outputs": []
    },
    {
      "cell_type": "markdown",
      "source": [
        "**Búsqueda exhaustiva de la mejor semilla (X0) para los 3 algoritmos realizando búsqueda exhaustiva a los valores entre 1000 y 9999 y almacenarás todas las longitudes para toda las semillas.**"
      ],
      "metadata": {
        "id": "2IcYrEdZ7E3i"
      }
    },
    {
      "cell_type": "code",
      "source": [
        "periodos_cuadrados = []\n",
        "mejor_periodo_cuadrados = 0\n",
        "mejor_semilla_cuadrados = 0\n",
        "\n",
        "for semilla in range(1000, 10000):\n",
        "    periodo = len(algoritmo_no_congruencial_cuadrados_medios(semilla))\n",
        "    periodos_cuadrados.append(periodo)\n",
        "    if periodo > mejor_periodo_cuadrados:\n",
        "        mejor_periodo_cuadrados = periodo\n",
        "        mejor_semilla_cuadrados = semilla\n",
        "\n",
        "periodos_multiplicador = []\n",
        "mejor_periodo_multiplicador = 0\n",
        "mejor_semilla_multiplicador = 0\n",
        "\n",
        "a = 1781\n",
        "D = 4\n",
        "\n",
        "for semilla in range(1000, 10000):\n",
        "    periodo = len(algoritmo_no_congruencial_multiplicador_constante(semilla, a, D))\n",
        "    periodos_multiplicador.append(periodo)\n",
        "    if periodo > mejor_periodo_multiplicador:\n",
        "        mejor_periodo_multiplicador = periodo\n",
        "        mejor_semilla_multiplicador = semilla\n",
        "\n",
        "\n",
        "periodos_productos = []\n",
        "mejor_periodo_productos = 0\n",
        "mejor_semilla_productos = 0\n",
        "\n",
        "otra_semilla = 1781\n",
        "d = 4\n",
        "\n",
        "for semilla in range(1000, 10000):\n",
        "    periodo = len(algoritmo_no_congruencial_productos_medios(semilla, otra_semilla, d))\n",
        "    periodos_productos.append(periodo)\n",
        "    if periodo > mejor_periodo_productos:\n",
        "        mejor_periodo_productos = periodo\n",
        "        mejor_semilla_productos = semilla\n",
        "\n",
        "\n",
        "print(\"La mejor semilla en Cuadrados Medios es:\", mejor_semilla_cuadrados,\n",
        "      \"con periodo:\", mejor_periodo_cuadrados)\n",
        "\n",
        "print(\"La mejor semilla en Multiplicador Constante es:\", mejor_semilla_multiplicador,\n",
        "      \"con periodo:\", mejor_periodo_multiplicador)\n",
        "\n",
        "print(\"La mejor semilla en Productos Medios es:\", mejor_semilla_productos,\n",
        "      \"con periodo:\", mejor_periodo_productos)"
      ],
      "metadata": {
        "id": "opuZ2WW00PSz",
        "colab": {
          "base_uri": "https://localhost:8080/"
        },
        "outputId": "97d81cf7-95de-41e5-dd2b-6dacfbe09f52"
      },
      "execution_count": null,
      "outputs": [
        {
          "output_type": "stream",
          "name": "stdout",
          "text": [
            "La mejor semilla en Cuadrados Medios es: 1781 con periodo: 126\n",
            "La mejor semilla en Multiplicador Constante es: 1744 con periodo: 184\n",
            "La mejor semilla en Productos Medios es: 4171 con periodo: 416\n"
          ]
        }
      ]
    },
    {
      "cell_type": "markdown",
      "source": [
        "**Boxplot de los periodos de cada algoritmo.**"
      ],
      "metadata": {
        "id": "2pkZLYGH6xPD"
      }
    },
    {
      "cell_type": "code",
      "metadata": {
        "colab": {
          "base_uri": "https://localhost:8080/",
          "height": 872
        },
        "id": "2f1886be",
        "outputId": "268a50b4-2f6c-474a-9645-04aad21f4fed"
      },
      "source": [
        "df = pd.DataFrame({\n",
        "    'Cuadrados Medios': periodos_cuadrados,\n",
        "    'Productos Medios': periodos_productos,\n",
        "    'Multiplicador Constante': periodos_multiplicador\n",
        "})\n",
        "\n",
        "print(df)\n",
        "\n",
        "plt.figure(figsize=(8, 5))\n",
        "sns.boxplot(x='Algoritmo', y='Periodo', data=df.melt(var_name='Algoritmo', value_name='Periodo'), color=\"gold\")\n",
        "plt.title('BOXPLOT DE PERIODOS POR ALGORITMO')\n",
        "plt.ylabel('PERIODO')\n",
        "plt.xlabel('ALGORITMO')\n",
        "plt.tight_layout()\n",
        "plt.show()\n",
        "\n",
        "estadisticas = df.describe().T[['min', 'mean', 'max']].rename(columns={\n",
        "    \"min\": \"Mínimo\",\n",
        "    \"mean\": \"Promedio\",\n",
        "    \"max\": \"Máximo\",\n",
        "})\n",
        "\n",
        "print(\"\")\n",
        "print(\"Estadísticas de periodos por algoritmo:\")\n",
        "print(\"\")\n",
        "print(estadisticas)"
      ],
      "execution_count": null,
      "outputs": [
        {
          "output_type": "stream",
          "name": "stdout",
          "text": [
            "      Cuadrados Medios  Productos Medios  Multiplicador Constante\n",
            "0                    1               296                       20\n",
            "1                    4                81                      100\n",
            "2                    5                48                      100\n",
            "3                    5                79                       39\n",
            "4                    6               117                      101\n",
            "...                ...               ...                      ...\n",
            "8995                 2               123                      108\n",
            "8996                 6                88                      133\n",
            "8997                 5                59                       91\n",
            "8998                 4                84                       78\n",
            "8999                 4               223                        6\n",
            "\n",
            "[9000 rows x 3 columns]\n"
          ]
        },
        {
          "output_type": "display_data",
          "data": {
            "text/plain": [
              "<Figure size 800x500 with 1 Axes>"
            ],
            "image/png": "[encoded data removed]"
          },
          "metadata": {}
        },
        {
          "output_type": "stream",
          "name": "stdout",
          "text": [
            "\n",
            "Estadísticas de periodos por algoritmo:\n",
            "\n",
            "                         Mínimo    Promedio  Máximo\n",
            "Cuadrados Medios            1.0   47.636000   126.0\n",
            "Productos Medios            1.0  112.074778   416.0\n",
            "Multiplicador Constante     1.0   88.235444   184.0\n"
          ]
        }
      ]
    }
  ]
}
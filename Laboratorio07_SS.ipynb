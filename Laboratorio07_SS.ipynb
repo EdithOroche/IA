{
  "nbformat": 4,
  "nbformat_minor": 0,
  "metadata": {
    "colab": {
      "provenance": [],
      "authorship_tag": "ABX9TyM3ycqXJKeHrLJyqt9ZEp0b",
      "include_colab_link": true
    },
    "kernelspec": {
      "name": "python3",
      "display_name": "Python 3"
    },
    "language_info": {
      "name": "python"
    }
  },
  "cells": [
    {
      "cell_type": "markdown",
      "metadata": {
        "id": "view-in-github",
        "colab_type": "text"
      },
      "source": [
        "<a href=\"https://colab.research.google.com/github/EdithOroche/IA/blob/main/Laboratorio07_SS.ipynb\" target=\"_parent\"><img src=\"https://colab.research.google.com/assets/colab-badge.svg\" alt=\"Open In Colab\"/></a>"
      ]
    },
    {
      "cell_type": "markdown",
      "source": [
        "#LABORATORIO 07\n"
      ],
      "metadata": {
        "id": "_SR0bwBZ1E5S"
      }
    },
    {
      "cell_type": "markdown",
      "source": [
        "Programar la prueba de uniformidad de chi cuadrada y, para un nivel de confianza de 95%, calcular el porcentaje de secuencias de números pseudo-aleatorios, generados a través de los algoritmos no congruenciales: cuadrados medios, multiplicador constante (a=1781) y productos medios (X1=1781) con semillas entre 1000 y 9999, que pasan la prueba de uniformidad de chi cuadrada."
      ],
      "metadata": {
        "id": "A4_NPagf1JGo"
      }
    },
    {
      "cell_type": "code",
      "source": [],
      "metadata": {
        "id": "Id9n28D11K8Z"
      },
      "execution_count": null,
      "outputs": []
    }
  ]
}